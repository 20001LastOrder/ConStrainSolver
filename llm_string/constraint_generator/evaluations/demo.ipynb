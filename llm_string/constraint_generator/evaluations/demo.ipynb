{
 "cells": [
  {
   "metadata": {},
   "cell_type": "markdown",
   "source": "## Constraint Generator Demo",
   "id": "12bdb68834e30feb"
  },
  {
   "metadata": {
    "ExecuteTime": {
     "end_time": "2025-06-14T17:10:57.464001Z",
     "start_time": "2025-06-14T17:10:55.388396Z"
    }
   },
   "cell_type": "code",
   "source": [
    "from llm_string.constraint_generator.evaluations.main_py import generate_functions\n",
    "from llm_string.constraint_generator.evaluations.main_smt import generate_formal_constraints"
   ],
   "id": "a009286e8b4883cc",
   "outputs": [],
   "execution_count": 1
  },
  {
   "metadata": {
    "ExecuteTime": {
     "end_time": "2025-06-14T17:10:57.475934Z",
     "start_time": "2025-06-14T17:10:57.464001Z"
    }
   },
   "cell_type": "code",
   "source": [
    "from llm_string.constraints import ConstraintStore\n",
    "\n",
    "constraint_store = ConstraintStore(file_path=\"../../../constraint_files/constraints_independent.csv\")"
   ],
   "id": "a1e7ebf3cbc784f6",
   "outputs": [],
   "execution_count": 2
  },
  {
   "metadata": {},
   "cell_type": "markdown",
   "source": "### Generating Python Function Checkers",
   "id": "7ae14dada8a7b5a1"
  },
  {
   "metadata": {
    "ExecuteTime": {
     "end_time": "2025-06-14T17:11:25.799541Z",
     "start_time": "2025-06-14T17:10:57.570032Z"
    }
   },
   "cell_type": "code",
   "source": [
    "from omegaconf import OmegaConf\n",
    "\n",
    "from llm_string.constraints import ConstraintStore\n",
    "\n",
    "example_config = OmegaConf.create({\n",
    "    \"generator_type\": \"python\",\n",
    "    \"generator_mode\": \"independent\",\n",
    "    \"num_processes\": 12,\n",
    "    \"max_retries_per_attempt\": 2,\n",
    "    \"output_folder\": \"llm_string/constraint_generator/evaluations/results/\",\n",
    "})\n",
    "\n",
    "constraint_store = ConstraintStore(file_path=\"../../../constraint_files/constraints_independent.csv\")\n",
    "\n",
    "\n",
    "results = generate_functions(0, example_config, constraint_store, (\"gpt-4o-mini\", \"Name\", True))"
   ],
   "id": "bb3a937f26e3eb8c",
   "outputs": [
    {
     "name": "stderr",
     "output_type": "stream",
     "text": [
      "\u001B[32m2025-06-14 13:10:57.891\u001B[0m | \u001B[1mINFO    \u001B[0m | \u001B[36mllm_string.constraint_generator.core.python.batch_constraint_generator_agent\u001B[0m:\u001B[36mget_evaluator\u001B[0m:\u001B[36m35\u001B[0m - \u001B[1mconstraint=['The name shall only contain letters a-z, letters A-Z and space characters.'], attempt 1 invoking model.\u001B[0m\n",
      "\u001B[32m2025-06-14 13:11:01.998\u001B[0m | \u001B[1mINFO    \u001B[0m | \u001B[36mllm_string.constraint_generator.core.python.batch_constraint_generator_agent\u001B[0m:\u001B[36mget_evaluator\u001B[0m:\u001B[36m35\u001B[0m - \u001B[1mconstraint=['The name shall contain at least one space character.'], attempt 1 invoking model.\u001B[0m\n",
      "\u001B[32m2025-06-14 13:11:05.904\u001B[0m | \u001B[1mINFO    \u001B[0m | \u001B[36mllm_string.constraint_generator.core.python.batch_constraint_generator_agent\u001B[0m:\u001B[36mget_evaluator\u001B[0m:\u001B[36m35\u001B[0m - \u001B[1mconstraint=['The name shall not end with a space character.'], attempt 1 invoking model.\u001B[0m\n",
      "\u001B[32m2025-06-14 13:11:11.130\u001B[0m | \u001B[1mINFO    \u001B[0m | \u001B[36mllm_string.constraint_generator.core.python.batch_constraint_generator_agent\u001B[0m:\u001B[36mget_evaluator\u001B[0m:\u001B[36m35\u001B[0m - \u001B[1mconstraint=['The name shall not start with a space character.'], attempt 1 invoking model.\u001B[0m\n",
      "\u001B[32m2025-06-14 13:11:16.089\u001B[0m | \u001B[1mINFO    \u001B[0m | \u001B[36mllm_string.constraint_generator.core.python.batch_constraint_generator_agent\u001B[0m:\u001B[36mget_evaluator\u001B[0m:\u001B[36m35\u001B[0m - \u001B[1mconstraint=['The first character in the name shall be capitalized.'], attempt 1 invoking model.\u001B[0m\n",
      "\u001B[32m2025-06-14 13:11:20.813\u001B[0m | \u001B[1mINFO    \u001B[0m | \u001B[36mllm_string.constraint_generator.core.python.batch_constraint_generator_agent\u001B[0m:\u001B[36mget_evaluator\u001B[0m:\u001B[36m35\u001B[0m - \u001B[1mconstraint=['Any character in the name following a space character shall be capitalized.'], attempt 1 invoking model.\u001B[0m\n"
     ]
    }
   ],
   "execution_count": 3
  },
  {
   "metadata": {
    "ExecuteTime": {
     "end_time": "2025-06-14T17:11:25.814459Z",
     "start_time": "2025-06-14T17:11:25.809549Z"
    }
   },
   "cell_type": "code",
   "source": [
    "for result in results:\n",
    "    print(\"NL Constraint:\", result[0])\n",
    "    print(\"Python Function:\", '\\n', result[1].encode('utf-8').decode('utf-8'))\n",
    "    print('\\n')"
   ],
   "id": "5d472885c96eded3",
   "outputs": [
    {
     "name": "stdout",
     "output_type": "stream",
     "text": [
      "NL Constraint: The name shall only contain letters a-z, letters A-Z and space characters.\n",
      "Python Function: \n",
      " def this_function(s: str) -> bool:\n",
      "    ''' Check if the name shall only contain letters a-z, letters A-Z and space characters. '''\n",
      "    return all(char.isalpha() or char.isspace() for char in s)\n",
      "\n",
      "\n",
      "NL Constraint: The name shall contain at least one space character.\n",
      "Python Function: \n",
      " def this_function(s: str) -> bool: \n",
      "    ''' Check if the name contains at least one space character.'''\n",
      "    return ' ' in s\n",
      "\n",
      "\n",
      "NL Constraint: The name shall not end with a space character.\n",
      "Python Function: \n",
      " def this_function(s: str) -> bool: \n",
      "    ''' Check if the name does not end with a space character.'''\n",
      "    return not s.endswith(' ')\n",
      "\n",
      "\n",
      "NL Constraint: The name shall not start with a space character.\n",
      "Python Function: \n",
      " def this_function(s: str) -> bool: \n",
      "    ''' Check if the name does not start with a space character.'''\n",
      "    return not s.startswith(' ')\n",
      "\n",
      "\n",
      "NL Constraint: The first character in the name shall be capitalized.\n",
      "Python Function: \n",
      " def this_function(s: str) -> bool: \n",
      "    ''' Check if the first character in the name is capitalized.'''\n",
      "    if not s:  # Check if the string is empty\n",
      "        return False\n",
      "    return s[0].isupper()  # Return True if the first character is uppercase, otherwise False\n",
      "\n",
      "\n",
      "NL Constraint: Any character in the name following a space character shall be capitalized.\n",
      "Python Function: \n",
      " def this_function(s: str) -> bool:\n",
      "    ''' Check if any character in the name following a space character is capitalized.'''\n",
      "    for i in range(len(s) - 1):  # Iterate through the string, stopping before the last character\n",
      "        if s[i] == ' ' and i + 1 < len(s):  # Check for a space and ensure there's a next character\n",
      "            if s[i + 1].isupper():  # Check if the next character is uppercase\n",
      "                return True  # Return True if a capitalized character is found\n",
      "    return False  # Return False if no capitalized character is found after a space\n",
      "\n",
      "\n"
     ]
    }
   ],
   "execution_count": 4
  },
  {
   "metadata": {},
   "cell_type": "markdown",
   "source": "### Generating SMT Constraint Checkers",
   "id": "ab11e8265f908c89"
  },
  {
   "metadata": {
    "ExecuteTime": {
     "end_time": "2025-06-14T17:12:00.381511Z",
     "start_time": "2025-06-14T17:11:25.823592Z"
    }
   },
   "cell_type": "code",
   "source": [
    "from omegaconf import OmegaConf\n",
    "\n",
    "example_config = OmegaConf.create({\n",
    "    \"generator_type\": \"smt\",\n",
    "    \"generator_mode\": \"independent\",\n",
    "    \"num_processes\": 12,\n",
    "    \"max_retries_per_attempt\": 2,\n",
    "    \"output_folder\": \"llm_string/constraint_generator/evaluations/results/\",\n",
    "})\n",
    "\n",
    "\n",
    "results = generate_formal_constraints(0, example_config, constraint_store, (\"gpt-4o-mini\", \"Name\", True))"
   ],
   "id": "ac3ca9f8fce5c6d2",
   "outputs": [
    {
     "name": "stderr",
     "output_type": "stream",
     "text": [
      "\u001B[32m2025-06-14 13:11:26.116\u001B[0m | \u001B[1mINFO    \u001B[0m | \u001B[36mllm_string.constraint_generator.core.batch_constraint_generator_agent\u001B[0m:\u001B[36m_execute_evaluator_step\u001B[0m:\u001B[36m116\u001B[0m - \u001B[1mAttempt 1: sending constraint to the LLM: ['The name shall only contain letters a-z, letters A-Z and space characters.']\u001B[0m\n",
      "\u001B[32m2025-06-14 13:11:29.484\u001B[0m | \u001B[1mINFO    \u001B[0m | \u001B[36mllm_string.constraint_generator.core.batch_constraint_generator_agent\u001B[0m:\u001B[36m_execute_evaluator_step\u001B[0m:\u001B[36m131\u001B[0m - \u001B[1mReceived constraints from the LLM: variables=['name'] constraint=['(str.in.re name (re.* (re.union (re.range \"a\" \"z\") (re.range \"A\" \"Z\") (str.to.re \" \"))))']\u001B[0m\n",
      "\u001B[32m2025-06-14 13:11:29.489\u001B[0m | \u001B[1mINFO    \u001B[0m | \u001B[36mllm_string.constraint_generator.core.helpers.solver_helpers\u001B[0m:\u001B[36m_update_solver_with_smt_lib2_constraints\u001B[0m:\u001B[36m102\u001B[0m - \u001B[1mChecking if the constraints are satisfiable.\u001B[0m\n",
      "\u001B[32m2025-06-14 13:11:29.491\u001B[0m | \u001B[1mINFO    \u001B[0m | \u001B[36mllm_string.constraint_generator.core.batch_constraint_generator_agent\u001B[0m:\u001B[36m_execute_evaluator_step\u001B[0m:\u001B[36m137\u001B[0m - \u001B[1mSuccessfully created evaluator. Returning evaluator.\u001B[0m\n",
      "\u001B[32m2025-06-14 13:11:29.790\u001B[0m | \u001B[1mINFO    \u001B[0m | \u001B[36mllm_string.constraint_generator.core.batch_constraint_generator_agent\u001B[0m:\u001B[36m_execute_evaluator_step\u001B[0m:\u001B[36m116\u001B[0m - \u001B[1mAttempt 1: sending constraint to the LLM: ['The name shall contain at least one space character.']\u001B[0m\n",
      "\u001B[32m2025-06-14 13:11:31.853\u001B[0m | \u001B[1mINFO    \u001B[0m | \u001B[36mllm_string.constraint_generator.core.batch_constraint_generator_agent\u001B[0m:\u001B[36m_execute_evaluator_step\u001B[0m:\u001B[36m131\u001B[0m - \u001B[1mReceived constraints from the LLM: variables=['name'] constraint=['(str.contains name \" \")']\u001B[0m\n",
      "\u001B[32m2025-06-14 13:11:31.855\u001B[0m | \u001B[1mINFO    \u001B[0m | \u001B[36mllm_string.constraint_generator.core.helpers.solver_helpers\u001B[0m:\u001B[36m_update_solver_with_smt_lib2_constraints\u001B[0m:\u001B[36m102\u001B[0m - \u001B[1mChecking if the constraints are satisfiable.\u001B[0m\n",
      "\u001B[32m2025-06-14 13:11:31.861\u001B[0m | \u001B[1mINFO    \u001B[0m | \u001B[36mllm_string.constraint_generator.core.batch_constraint_generator_agent\u001B[0m:\u001B[36m_execute_evaluator_step\u001B[0m:\u001B[36m137\u001B[0m - \u001B[1mSuccessfully created evaluator. Returning evaluator.\u001B[0m\n",
      "\u001B[32m2025-06-14 13:11:32.169\u001B[0m | \u001B[1mINFO    \u001B[0m | \u001B[36mllm_string.constraint_generator.core.batch_constraint_generator_agent\u001B[0m:\u001B[36m_execute_evaluator_step\u001B[0m:\u001B[36m116\u001B[0m - \u001B[1mAttempt 1: sending constraint to the LLM: ['The name shall not end with a space character.']\u001B[0m\n",
      "\u001B[32m2025-06-14 13:11:33.974\u001B[0m | \u001B[1mINFO    \u001B[0m | \u001B[36mllm_string.constraint_generator.core.batch_constraint_generator_agent\u001B[0m:\u001B[36m_execute_evaluator_step\u001B[0m:\u001B[36m131\u001B[0m - \u001B[1mReceived constraints from the LLM: variables=['name'] constraint=['(not (= (str.at name (- (str.len name) 1)) \" \"))']\u001B[0m\n",
      "\u001B[32m2025-06-14 13:11:33.976\u001B[0m | \u001B[1mINFO    \u001B[0m | \u001B[36mllm_string.constraint_generator.core.helpers.solver_helpers\u001B[0m:\u001B[36m_update_solver_with_smt_lib2_constraints\u001B[0m:\u001B[36m102\u001B[0m - \u001B[1mChecking if the constraints are satisfiable.\u001B[0m\n",
      "\u001B[32m2025-06-14 13:11:33.978\u001B[0m | \u001B[1mINFO    \u001B[0m | \u001B[36mllm_string.constraint_generator.core.batch_constraint_generator_agent\u001B[0m:\u001B[36m_execute_evaluator_step\u001B[0m:\u001B[36m137\u001B[0m - \u001B[1mSuccessfully created evaluator. Returning evaluator.\u001B[0m\n",
      "\u001B[32m2025-06-14 13:11:34.276\u001B[0m | \u001B[1mINFO    \u001B[0m | \u001B[36mllm_string.constraint_generator.core.batch_constraint_generator_agent\u001B[0m:\u001B[36m_execute_evaluator_step\u001B[0m:\u001B[36m116\u001B[0m - \u001B[1mAttempt 1: sending constraint to the LLM: ['The name shall not start with a space character.']\u001B[0m\n",
      "\u001B[32m2025-06-14 13:11:38.127\u001B[0m | \u001B[1mINFO    \u001B[0m | \u001B[36mllm_string.constraint_generator.core.batch_constraint_generator_agent\u001B[0m:\u001B[36m_execute_evaluator_step\u001B[0m:\u001B[36m131\u001B[0m - \u001B[1mReceived constraints from the LLM: variables=['name'] constraint=['(not (= (str.at name 0) \" \"))']\u001B[0m\n",
      "\u001B[32m2025-06-14 13:11:38.127\u001B[0m | \u001B[1mINFO    \u001B[0m | \u001B[36mllm_string.constraint_generator.core.helpers.solver_helpers\u001B[0m:\u001B[36m_update_solver_with_smt_lib2_constraints\u001B[0m:\u001B[36m102\u001B[0m - \u001B[1mChecking if the constraints are satisfiable.\u001B[0m\n",
      "\u001B[32m2025-06-14 13:11:38.127\u001B[0m | \u001B[1mINFO    \u001B[0m | \u001B[36mllm_string.constraint_generator.core.batch_constraint_generator_agent\u001B[0m:\u001B[36m_execute_evaluator_step\u001B[0m:\u001B[36m137\u001B[0m - \u001B[1mSuccessfully created evaluator. Returning evaluator.\u001B[0m\n",
      "\u001B[32m2025-06-14 13:11:38.428\u001B[0m | \u001B[1mINFO    \u001B[0m | \u001B[36mllm_string.constraint_generator.core.batch_constraint_generator_agent\u001B[0m:\u001B[36m_execute_evaluator_step\u001B[0m:\u001B[36m116\u001B[0m - \u001B[1mAttempt 1: sending constraint to the LLM: ['The first character in the name shall be capitalized.']\u001B[0m\n",
      "\u001B[32m2025-06-14 13:11:40.450\u001B[0m | \u001B[1mINFO    \u001B[0m | \u001B[36mllm_string.constraint_generator.core.batch_constraint_generator_agent\u001B[0m:\u001B[36m_execute_evaluator_step\u001B[0m:\u001B[36m131\u001B[0m - \u001B[1mReceived constraints from the LLM: variables=['name'] constraint=['(and (>= (str.at name 0) \"A\") (<= (str.at name 0) \"Z\"))']\u001B[0m\n",
      "\u001B[32m2025-06-14 13:11:40.450\u001B[0m | \u001B[1mINFO    \u001B[0m | \u001B[36mllm_string.constraint_generator.core.helpers.solver_helpers\u001B[0m:\u001B[36m_update_solver_with_smt_lib2_constraints\u001B[0m:\u001B[36m102\u001B[0m - \u001B[1mChecking if the constraints are satisfiable.\u001B[0m\n",
      "\u001B[32m2025-06-14 13:11:40.450\u001B[0m | \u001B[31m\u001B[1mERROR   \u001B[0m | \u001B[36mllm_string.constraint_generator.core.batch_constraint_generator_agent\u001B[0m:\u001B[36m_execute_evaluator_step\u001B[0m:\u001B[36m148\u001B[0m - \u001B[31m\u001B[1mError creating evaluator for constraint variables=['name'] constraint=['(and (>= (str.at name 0) \"A\") (<= (str.at name 0) \"Z\"))']: ('Error creating evaluator.', [('(and (>= (str.at name 0) \"A\") (<= (str.at name 0) \"Z\"))', Z3Exception(b'(error \"line 1 column 37: Sort mismatch at argument #1 for function (declare-fun >= (Int Int) Bool) supplied sort is String\")\\n'))])\u001B[0m\n",
      "\u001B[32m2025-06-14 13:11:40.450\u001B[0m | \u001B[1mINFO    \u001B[0m | \u001B[36mllm_string.constraint_generator.core.batch_constraint_generator_agent\u001B[0m:\u001B[36m_execute_evaluator_step\u001B[0m:\u001B[36m116\u001B[0m - \u001B[1mAttempt 2: sending constraint to the LLM: ['The first character in the name shall be capitalized.']\u001B[0m\n",
      "\u001B[32m2025-06-14 13:11:43.053\u001B[0m | \u001B[1mINFO    \u001B[0m | \u001B[36mllm_string.constraint_generator.core.batch_constraint_generator_agent\u001B[0m:\u001B[36m_execute_evaluator_step\u001B[0m:\u001B[36m131\u001B[0m - \u001B[1mReceived constraints from the LLM: variables=['name'] constraint=['(and (>= (str.to.int (str.at name 0)) 65) (<= (str.to.int (str.at name 0)) 90))']\u001B[0m\n",
      "\u001B[32m2025-06-14 13:11:43.053\u001B[0m | \u001B[1mINFO    \u001B[0m | \u001B[36mllm_string.constraint_generator.core.helpers.solver_helpers\u001B[0m:\u001B[36m_update_solver_with_smt_lib2_constraints\u001B[0m:\u001B[36m102\u001B[0m - \u001B[1mChecking if the constraints are satisfiable.\u001B[0m\n",
      "\u001B[32m2025-06-14 13:11:43.071\u001B[0m | \u001B[31m\u001B[1mERROR   \u001B[0m | \u001B[36mllm_string.constraint_generator.core.batch_constraint_generator_agent\u001B[0m:\u001B[36m_execute_evaluator_step\u001B[0m:\u001B[36m148\u001B[0m - \u001B[31m\u001B[1mError creating evaluator for constraint variables=['name'] constraint=['(and (>= (str.to.int (str.at name 0)) 65) (<= (str.to.int (str.at name 0)) 90))']: ('Error creating evaluator.', [('constraint satisfiability', ValueError('Constraints are unsatisfiable', '(declare-fun name () String) (assert (and (>= (str.to_int (str.at name 0)) 65) (<= (str.to_int (str.at name 0)) 90))) '))])\u001B[0m\n",
      "\u001B[32m2025-06-14 13:11:43.071\u001B[0m | \u001B[1mINFO    \u001B[0m | \u001B[36mllm_string.constraint_generator.core.batch_constraint_generator_agent\u001B[0m:\u001B[36m_execute_evaluator_step\u001B[0m:\u001B[36m116\u001B[0m - \u001B[1mAttempt 3: sending constraint to the LLM: ['The first character in the name shall be capitalized.']\u001B[0m\n",
      "\u001B[32m2025-06-14 13:11:46.188\u001B[0m | \u001B[1mINFO    \u001B[0m | \u001B[36mllm_string.constraint_generator.core.batch_constraint_generator_agent\u001B[0m:\u001B[36m_execute_evaluator_step\u001B[0m:\u001B[36m131\u001B[0m - \u001B[1mReceived constraints from the LLM: variables=['name'] constraint=['(and (>= (str.to_int (str.at name 0)) (str.to_int \"A\")) (<= (str.to_int (str.at name 0)) (str.to_int \"Z\")))']\u001B[0m\n",
      "\u001B[32m2025-06-14 13:11:46.188\u001B[0m | \u001B[1mINFO    \u001B[0m | \u001B[36mllm_string.constraint_generator.core.helpers.solver_helpers\u001B[0m:\u001B[36m_update_solver_with_smt_lib2_constraints\u001B[0m:\u001B[36m102\u001B[0m - \u001B[1mChecking if the constraints are satisfiable.\u001B[0m\n",
      "\u001B[32m2025-06-14 13:11:46.204\u001B[0m | \u001B[1mINFO    \u001B[0m | \u001B[36mllm_string.constraint_generator.core.batch_constraint_generator_agent\u001B[0m:\u001B[36m_execute_evaluator_step\u001B[0m:\u001B[36m137\u001B[0m - \u001B[1mSuccessfully created evaluator. Returning evaluator.\u001B[0m\n",
      "\u001B[32m2025-06-14 13:11:46.499\u001B[0m | \u001B[1mINFO    \u001B[0m | \u001B[36mllm_string.constraint_generator.core.batch_constraint_generator_agent\u001B[0m:\u001B[36m_execute_evaluator_step\u001B[0m:\u001B[36m116\u001B[0m - \u001B[1mAttempt 1: sending constraint to the LLM: ['Any character in the name following a space character shall be capitalized.']\u001B[0m\n",
      "\u001B[32m2025-06-14 13:11:50.141\u001B[0m | \u001B[1mINFO    \u001B[0m | \u001B[36mllm_string.constraint_generator.core.batch_constraint_generator_agent\u001B[0m:\u001B[36m_execute_evaluator_step\u001B[0m:\u001B[36m131\u001B[0m - \u001B[1mReceived constraints from the LLM: variables=['name'] constraint=['(forall ((i Int)) (=> (and (>= i 0) (< i (str.len name))) (=> (= (str.at name i) \" \") (isUpper (str.at name (+ i 1))))))']\u001B[0m\n",
      "\u001B[32m2025-06-14 13:11:50.157\u001B[0m | \u001B[1mINFO    \u001B[0m | \u001B[36mllm_string.constraint_generator.core.helpers.solver_helpers\u001B[0m:\u001B[36m_update_solver_with_smt_lib2_constraints\u001B[0m:\u001B[36m102\u001B[0m - \u001B[1mChecking if the constraints are satisfiable.\u001B[0m\n",
      "\u001B[32m2025-06-14 13:11:50.159\u001B[0m | \u001B[31m\u001B[1mERROR   \u001B[0m | \u001B[36mllm_string.constraint_generator.core.batch_constraint_generator_agent\u001B[0m:\u001B[36m_execute_evaluator_step\u001B[0m:\u001B[36m148\u001B[0m - \u001B[31m\u001B[1mError creating evaluator for constraint variables=['name'] constraint=['(forall ((i Int)) (=> (and (>= i 0) (< i (str.len name))) (=> (= (str.at name i) \" \") (isUpper (str.at name (+ i 1))))))']: ('Error creating evaluator.', [('(forall ((i Int)) (=> (and (>= i 0) (< i (str.len name))) (=> (= (str.at name i) \" \") (isUpper (str.at name (+ i 1))))))', Z3Exception(b'(error \"line 1 column 125: unknown constant isUpper (String) \")\\n'))])\u001B[0m\n",
      "\u001B[32m2025-06-14 13:11:50.159\u001B[0m | \u001B[1mINFO    \u001B[0m | \u001B[36mllm_string.constraint_generator.core.batch_constraint_generator_agent\u001B[0m:\u001B[36m_execute_evaluator_step\u001B[0m:\u001B[36m116\u001B[0m - \u001B[1mAttempt 2: sending constraint to the LLM: ['Any character in the name following a space character shall be capitalized.']\u001B[0m\n",
      "\u001B[32m2025-06-14 13:11:54.650\u001B[0m | \u001B[1mINFO    \u001B[0m | \u001B[36mllm_string.constraint_generator.core.batch_constraint_generator_agent\u001B[0m:\u001B[36m_execute_evaluator_step\u001B[0m:\u001B[36m131\u001B[0m - \u001B[1mReceived constraints from the LLM: variables=['name'] constraint=['(forall ((i Int)) (=> (and (>= i 0) (< i (str.len name))) (=> (= (str.at name i) \" \") (=> (< (+ i 1) (str.len name)) (isUpper (str.at name (+ i 1)))))))']\u001B[0m\n",
      "\u001B[32m2025-06-14 13:11:54.650\u001B[0m | \u001B[1mINFO    \u001B[0m | \u001B[36mllm_string.constraint_generator.core.helpers.solver_helpers\u001B[0m:\u001B[36m_update_solver_with_smt_lib2_constraints\u001B[0m:\u001B[36m102\u001B[0m - \u001B[1mChecking if the constraints are satisfiable.\u001B[0m\n",
      "\u001B[32m2025-06-14 13:11:54.650\u001B[0m | \u001B[31m\u001B[1mERROR   \u001B[0m | \u001B[36mllm_string.constraint_generator.core.batch_constraint_generator_agent\u001B[0m:\u001B[36m_execute_evaluator_step\u001B[0m:\u001B[36m148\u001B[0m - \u001B[31m\u001B[1mError creating evaluator for constraint variables=['name'] constraint=['(forall ((i Int)) (=> (and (>= i 0) (< i (str.len name))) (=> (= (str.at name i) \" \") (=> (< (+ i 1) (str.len name)) (isUpper (str.at name (+ i 1)))))))']: ('Error creating evaluator.', [('(forall ((i Int)) (=> (and (>= i 0) (< i (str.len name))) (=> (= (str.at name i) \" \") (=> (< (+ i 1) (str.len name)) (isUpper (str.at name (+ i 1)))))))', Z3Exception(b'(error \"line 1 column 156: unknown constant isUpper (String) \")\\n'))])\u001B[0m\n",
      "\u001B[32m2025-06-14 13:11:54.650\u001B[0m | \u001B[1mINFO    \u001B[0m | \u001B[36mllm_string.constraint_generator.core.batch_constraint_generator_agent\u001B[0m:\u001B[36m_execute_evaluator_step\u001B[0m:\u001B[36m116\u001B[0m - \u001B[1mAttempt 3: sending constraint to the LLM: ['Any character in the name following a space character shall be capitalized.']\u001B[0m\n",
      "\u001B[32m2025-06-14 13:12:00.373\u001B[0m | \u001B[1mINFO    \u001B[0m | \u001B[36mllm_string.constraint_generator.core.batch_constraint_generator_agent\u001B[0m:\u001B[36m_execute_evaluator_step\u001B[0m:\u001B[36m131\u001B[0m - \u001B[1mReceived constraints from the LLM: variables=['name'] constraint=['(forall ((i Int)) (=> (and (>= i 0) (< i (str.len name))) (=> (= (str.at name i) \" \") (=> (< (+ i 1) (str.len name)) (isUpper (str.at name (+ i 1)))))))']\u001B[0m\n",
      "\u001B[32m2025-06-14 13:12:00.373\u001B[0m | \u001B[1mINFO    \u001B[0m | \u001B[36mllm_string.constraint_generator.core.helpers.solver_helpers\u001B[0m:\u001B[36m_update_solver_with_smt_lib2_constraints\u001B[0m:\u001B[36m102\u001B[0m - \u001B[1mChecking if the constraints are satisfiable.\u001B[0m\n",
      "\u001B[32m2025-06-14 13:12:00.373\u001B[0m | \u001B[31m\u001B[1mERROR   \u001B[0m | \u001B[36mllm_string.constraint_generator.core.batch_constraint_generator_agent\u001B[0m:\u001B[36m_execute_evaluator_step\u001B[0m:\u001B[36m148\u001B[0m - \u001B[31m\u001B[1mError creating evaluator for constraint variables=['name'] constraint=['(forall ((i Int)) (=> (and (>= i 0) (< i (str.len name))) (=> (= (str.at name i) \" \") (=> (< (+ i 1) (str.len name)) (isUpper (str.at name (+ i 1)))))))']: ('Error creating evaluator.', [('(forall ((i Int)) (=> (and (>= i 0) (< i (str.len name))) (=> (= (str.at name i) \" \") (=> (< (+ i 1) (str.len name)) (isUpper (str.at name (+ i 1)))))))', Z3Exception(b'(error \"line 1 column 156: unknown constant isUpper (String) \")\\n'))])\u001B[0m\n",
      "\u001B[32m2025-06-14 13:12:00.373\u001B[0m | \u001B[31m\u001B[1mERROR   \u001B[0m | \u001B[36mllm_string.constraint_generator.core.batch_constraint_generator_agent\u001B[0m:\u001B[36m_execute_evaluator_step\u001B[0m:\u001B[36m152\u001B[0m - \u001B[31m\u001B[1mFailed to create evaluator after 3 attempts. See log for details.\u001B[0m\n"
     ]
    }
   ],
   "execution_count": 5
  },
  {
   "metadata": {
    "ExecuteTime": {
     "end_time": "2025-06-14T17:12:00.432800Z",
     "start_time": "2025-06-14T17:12:00.429690Z"
    }
   },
   "cell_type": "code",
   "source": [
    "for result in results:\n",
    "    print(\"NL Constraint:\", result[0])\n",
    "    print(\"SMT Constraint:\", result[1])\n",
    "    print('\\n')"
   ],
   "id": "b48681537db6afc7",
   "outputs": [
    {
     "name": "stdout",
     "output_type": "stream",
     "text": [
      "NL Constraint: The name shall only contain letters a-z, letters A-Z and space characters.\n",
      "SMT Constraint: (str.in.re s (re.* (re.union (re.range \"a\" \"z\") (re.range \"A\" \"Z\") (str.to.re \" \"))))\n",
      "\n",
      "\n",
      "NL Constraint: The name shall contain at least one space character.\n",
      "SMT Constraint: (str.contains s \" \")\n",
      "\n",
      "\n",
      "NL Constraint: The name shall not end with a space character.\n",
      "SMT Constraint: (not (= (str.at s (- (str.len s) 1)) \" \"))\n",
      "\n",
      "\n",
      "NL Constraint: The name shall not start with a space character.\n",
      "SMT Constraint: (not (= (str.at s 0) \" \"))\n",
      "\n",
      "\n",
      "NL Constraint: The first character in the name shall be capitalized.\n",
      "SMT Constraint: (and (>= (str.to_int (str.at s 0)) (str.to_int \"A\")) (<= (str.to_int (str.at s 0)) (str.to_int \"Z\")))\n",
      "\n",
      "\n",
      "NL Constraint: Any character in the name following a space character shall be capitalized.\n",
      "SMT Constraint: (forall ((i Int)) (=> (and (>= i 0) (< i (str.len s))) (=> (= (str.at s i) \" \") (=> (< (+ i 1) (str.len s)) (isUpper (str.at s (+ i 1)))))))\n",
      "\n",
      "\n"
     ]
    }
   ],
   "execution_count": 6
  },
  {
   "metadata": {},
   "cell_type": "markdown",
   "source": "### Generation Results from our Experiments",
   "id": "27ffee2742069b97"
  },
  {
   "metadata": {},
   "cell_type": "code",
   "source": [
    "%%cmd\n",
    "cd ../../../\n",
    "pip install -r requirements.txt\n",
    "python llm_string/constraint_generator/evaluations/show_results.py"
   ],
   "id": "e650ee08d7b74bb6",
   "outputs": [],
   "execution_count": null
  }
 ],
 "metadata": {
  "kernelspec": {
   "display_name": "Python 3",
   "language": "python",
   "name": "python3"
  },
  "language_info": {
   "codemirror_mode": {
    "name": "ipython",
    "version": 2
   },
   "file_extension": ".py",
   "mimetype": "text/x-python",
   "name": "python",
   "nbconvert_exporter": "python",
   "pygments_lexer": "ipython2",
   "version": "2.7.6"
  }
 },
 "nbformat": 4,
 "nbformat_minor": 5
}
