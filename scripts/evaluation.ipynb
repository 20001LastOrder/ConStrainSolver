{
 "cells": [
  {
   "cell_type": "code",
   "execution_count": 1,
   "metadata": {},
   "outputs": [],
   "source": [
    "import pandas\n",
    "import os"
   ]
  },
  {
   "cell_type": "code",
   "execution_count": 2,
   "metadata": {},
   "outputs": [],
   "source": [
    "models = [\"gpt-4o\", \"gpt-4o-mini\", \"llama3.1-8b-instruct-q4_0\"]\n",
    "setting = [\"\", \"_no_name\"]\n",
    "results_path = \"../results/llms\""
   ]
  },
  {
   "cell_type": "code",
   "execution_count": 3,
   "metadata": {},
   "outputs": [],
   "source": [
    "# load results\n",
    "result_path = os.path.join(results_path, \"run1\")\n",
    "results = {}\n",
    "for model in models:\n",
    "    for s in setting:\n",
    "        result_file = os.path.join(result_path, f\"{model}{s}_validation.csv\")\n",
    "        results[f\"{model}{s}\"] = pandas.read_csv(result_file)"
   ]
  },
  {
   "cell_type": "code",
   "execution_count": 4,
   "metadata": {},
   "outputs": [],
   "source": [
    "accuracy = {}\n",
    "\n",
    "# calculate accuracy\n",
    "for model in models:\n",
    "    for s in setting:\n",
    "        result = results[f\"{model}{s}\"]\n",
    "        accuracy[f\"{model}{s}\"] = result[\"valid?\"].sum() / len(result)"
   ]
  },
  {
   "cell_type": "code",
   "execution_count": 5,
   "metadata": {},
   "outputs": [
    {
     "data": {
      "text/plain": [
       "{'gpt-4o': 0.7291666666666666,\n",
       " 'gpt-4o_no_name': 0.6979166666666666,\n",
       " 'gpt-4o-mini': 0.640625,\n",
       " 'gpt-4o-mini_no_name': 0.6770833333333334,\n",
       " 'llama3.1-8b-instruct-q4_0': 0.3385416666666667,\n",
       " 'llama3.1-8b-instruct-q4_0_no_name': 0.3489583333333333}"
      ]
     },
     "execution_count": 5,
     "metadata": {},
     "output_type": "execute_result"
    }
   ],
   "source": [
    "accuracy"
   ]
  },
  {
   "cell_type": "code",
   "execution_count": 19,
   "metadata": {},
   "outputs": [],
   "source": [
    "def load_all_runs(num_runs=5):\n",
    "    runs = []\n",
    "    for i in range(1, num_runs + 1):\n",
    "        result_path = os.path.join(results_path, f\"run{i}\")\n",
    "        results = {}\n",
    "        for model in models:\n",
    "            for s in setting:\n",
    "                result_file = os.path.join(result_path, f\"{model}{s}_validation.csv\")\n",
    "                if os.path.exists(result_file):\n",
    "                    results[f\"{model}{s}\"] = pandas.read_csv(result_file)\n",
    "        runs.append(results)\n",
    "    return runs\n",
    "\n",
    "def get_result(df):\n",
    "    return df[\"valid?\"].sum() / len(result)"
   ]
  },
  {
   "cell_type": "code",
   "execution_count": 20,
   "metadata": {},
   "outputs": [],
   "source": [
    "evaluation_results = []\n",
    "for run in load_all_runs():\n",
    "    accuracy = {}\n",
    "    for key in run.keys():\n",
    "        result = run[key]\n",
    "        accuracy[key] = get_result(result)\n",
    "    evaluation_results.append(accuracy)"
   ]
  },
  {
   "cell_type": "code",
   "execution_count": 21,
   "metadata": {},
   "outputs": [
    {
     "data": {
      "text/plain": [
       "[{'gpt-4o': 0.7291666666666666,\n",
       "  'gpt-4o_no_name': 0.6979166666666666,\n",
       "  'gpt-4o-mini': 0.640625,\n",
       "  'gpt-4o-mini_no_name': 0.6770833333333334,\n",
       "  'llama3.1-8b-instruct-q4_0': 0.3385416666666667,\n",
       "  'llama3.1-8b-instruct-q4_0_no_name': 0.3489583333333333},\n",
       " {'gpt-4o': 0.7239583333333334,\n",
       "  'gpt-4o_no_name': 0.71875,\n",
       "  'gpt-4o-mini': 0.6145833333333334,\n",
       "  'gpt-4o-mini_no_name': 0.6770833333333334,\n",
       "  'llama3.1-8b-instruct-q4_0': 0.359375,\n",
       "  'llama3.1-8b-instruct-q4_0_no_name': 0.3958333333333333},\n",
       " {'gpt-4o': 0.6822916666666666,\n",
       "  'gpt-4o_no_name': 0.703125,\n",
       "  'gpt-4o-mini': 0.6458333333333334,\n",
       "  'gpt-4o-mini_no_name': 0.671875,\n",
       "  'llama3.1-8b-instruct-q4_0': 0.3072916666666667,\n",
       "  'llama3.1-8b-instruct-q4_0_no_name': 0.328125},\n",
       " {'gpt-4o': 0.703125,\n",
       "  'gpt-4o_no_name': 0.6979166666666666,\n",
       "  'gpt-4o-mini': 0.625,\n",
       "  'gpt-4o-mini_no_name': 0.6666666666666666},\n",
       " {'gpt-4o': 0.6979166666666666,\n",
       "  'gpt-4o_no_name': 0.6979166666666666,\n",
       "  'gpt-4o-mini': 0.6666666666666666,\n",
       "  'gpt-4o-mini_no_name': 0.71875}]"
      ]
     },
     "execution_count": 21,
     "metadata": {},
     "output_type": "execute_result"
    }
   ],
   "source": [
    "evaluation_results_cumlative = []\n",
    "previous_results = {}\n",
    "for run in load_all_runs():\n",
    "    accuracy = {}\n",
    "    for key in run.keys():\n",
    "        result = run[key][\"valid?\"]\n",
    "        if key in previous_results:\n",
    "            result = result | previous_results[key]\n",
    "        accuracy[key] = result.sum() / len(result)\n",
    "        previous_results[key] = result"
   ]
  },
  {
   "cell_type": "code",
   "execution_count": 27,
   "metadata": {},
   "outputs": [
    {
     "data": {
      "text/plain": [
       "0       True\n",
       "1       True\n",
       "2       True\n",
       "3       True\n",
       "4      False\n",
       "       ...  \n",
       "187     True\n",
       "188    False\n",
       "189     True\n",
       "190    False\n",
       "191     True\n",
       "Name: valid?, Length: 192, dtype: bool"
      ]
     },
     "execution_count": 27,
     "metadata": {},
     "output_type": "execute_result"
    }
   ],
   "source": [
    "run_results[0][\"gpt-4o\"][\"valid?\"] | run_results[2][\"gpt-4o\"][\"valid?\"]"
   ]
  },
  {
   "cell_type": "code",
   "execution_count": null,
   "metadata": {},
   "outputs": [],
   "source": []
  }
 ],
 "metadata": {
  "kernelspec": {
   "display_name": "string",
   "language": "python",
   "name": "python3"
  },
  "language_info": {
   "codemirror_mode": {
    "name": "ipython",
    "version": 3
   },
   "file_extension": ".py",
   "mimetype": "text/x-python",
   "name": "python",
   "nbconvert_exporter": "python",
   "pygments_lexer": "ipython3",
   "version": "3.12.5"
  }
 },
 "nbformat": 4,
 "nbformat_minor": 2
}
